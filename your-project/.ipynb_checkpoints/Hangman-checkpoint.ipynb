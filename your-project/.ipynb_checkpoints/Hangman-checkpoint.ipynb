{
 "cells": [
  {
   "cell_type": "code",
   "execution_count": 1,
   "metadata": {},
   "outputs": [],
   "source": [
    "# Decide who teh winner is\n",
    "def result(win,lose):\n",
    "    if win == 0: #win= count_lines\n",
    "        print(\"you won\")\n",
    "    elif lose == max_game: #lose=x\n",
    "        print(\"you died\")"
   ]
  },
  {
   "cell_type": "code",
   "execution_count": 2,
   "metadata": {},
   "outputs": [
    {
     "name": "stdout",
     "output_type": "stream",
     "text": [
      "add your word: hello\n",
      "x:  0\n",
      "add your letter: h\n",
      "4\n",
      "['h', '_', '_', '_', '_']\n",
      "x:  0\n",
      "add your letter: e\n",
      "3\n",
      "['h', 'e', '_', '_', '_']\n",
      "x:  0\n",
      "add your letter: l\n",
      "1\n",
      "['h', 'e', 'l', 'l', '_']\n",
      "x:  0\n",
      "add your letter: o\n",
      "0\n",
      "['h', 'e', 'l', 'l', 'o']\n",
      "you won\n"
     ]
    }
   ],
   "source": [
    "# with full world possibility\n",
    "word=str(input('add your word: '))     # The word from player1\n",
    "word_list = list(word)                 # Word converted to a list\n",
    "word_guess = list((len(word_list))*(str(\"_\")))\n",
    "count_lines=len(word_list)\n",
    "max_game = 4\n",
    "x = 0\n",
    "while count_lines > 0 and x != max_game:\n",
    "    mistake = 0\n",
    "    print(\"x: \", x)\n",
    "    guess = str(input('add your letter: '))\n",
    "    guess_list = list(guess)\n",
    "    for i in range(len(word_list)):\n",
    "        for j in range(len(guess_list)):\n",
    "            if word_list[i] == guess[j]:\n",
    "                word_guess[i]= guess[j]\n",
    "            else:\n",
    "                mistake +=1\n",
    "                if mistake == len(word_list):\n",
    "                    x+=1\n",
    "\n",
    "    count_lines=word_guess.count(\"_\")\n",
    "    print(count_lines)\n",
    "    print(word_guess)\n",
    "    \n",
    "\n",
    "result(count_lines,x)  "
   ]
  },
  {
   "cell_type": "code",
   "execution_count": null,
   "metadata": {},
   "outputs": [],
   "source": []
  }
 ],
 "metadata": {
  "kernelspec": {
   "display_name": "Python 3",
   "language": "python",
   "name": "python3"
  },
  "language_info": {
   "codemirror_mode": {
    "name": "ipython",
    "version": 3
   },
   "file_extension": ".py",
   "mimetype": "text/x-python",
   "name": "python",
   "nbconvert_exporter": "python",
   "pygments_lexer": "ipython3",
   "version": "3.8.6"
  }
 },
 "nbformat": 4,
 "nbformat_minor": 4
}
