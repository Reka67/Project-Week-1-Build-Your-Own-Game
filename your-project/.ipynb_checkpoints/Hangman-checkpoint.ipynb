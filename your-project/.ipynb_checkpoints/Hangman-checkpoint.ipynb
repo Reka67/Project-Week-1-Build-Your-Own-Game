{
 "cells": [
  {
   "cell_type": "code",
   "execution_count": 7,
   "metadata": {},
   "outputs": [],
   "source": [
    "# Decide who teh winner is\n",
    "def result(win,lose):\n",
    "    if win == 0: #win= count_lines\n",
    "        print(\"Congarulations!!!!! You won!\")\n",
    "    elif lose == max_game: #lose=x\n",
    "        print(\"You died...\")\n",
    "        \n",
    "        \n",
    "        "
   ]
  },
  {
   "cell_type": "code",
   "execution_count": 6,
   "metadata": {},
   "outputs": [
    {
     "name": "stdout",
     "output_type": "stream",
     "text": [
      "add your word: ironhack\n",
      "Here is the word you need to find out:  ['_', '_', '_', '_', '_', '_', '_', '_']\n",
      "add your letter: r\n",
      "['_', 'r', '_', '_', '_', '_', '_', '_']\n",
      "Letters you already guessed:  ['r']\n",
      "add your letter: i\n",
      "['i', 'r', '_', '_', '_', '_', '_', '_']\n",
      "Letters you already guessed:  ['r', 'i']\n",
      "add your letter: e\n",
      "Wrong! Sorry, I have tro draw the  basis\n",
      "['i', 'r', '_', '_', '_', '_', '_', '_']\n",
      "Letters you already guessed:  ['r', 'i', 'e']\n",
      "add your letter: t\n",
      "Wrong! Sorry, I have tro draw the  stick\n",
      "['i', 'r', '_', '_', '_', '_', '_', '_']\n",
      "Letters you already guessed:  ['r', 'i', 'e', 't']\n",
      "add your letter: o\n",
      "['i', 'r', 'o', '_', '_', '_', '_', '_']\n",
      "Letters you already guessed:  ['r', 'i', 'e', 't', 'o']\n",
      "add your letter: h\n",
      "['i', 'r', 'o', '_', 'h', '_', '_', '_']\n",
      "Letters you already guessed:  ['r', 'i', 'e', 't', 'o', 'h']\n",
      "add your letter: a\n",
      "['i', 'r', 'o', '_', 'h', 'a', '_', '_']\n",
      "Letters you already guessed:  ['r', 'i', 'e', 't', 'o', 'h', 'a']\n",
      "add your letter: ironhack\n",
      "Wrong! Sorry, I have tro draw the  upper thingy\n",
      "['i', 'r', 'o', 'n', 'h', 'a', 'c', 'k']\n",
      "Letters you already guessed:  ['r', 'i', 'e', 't', 'o', 'h', 'a', 'ironhack']\n",
      "you won\n"
     ]
    }
   ],
   "source": [
    "# with full world possibility\n",
    "word = str(input('add your word: '))     # The word from player1\n",
    "word_list = list(word)                 # Word converted to a list\n",
    "count_lines=len(word_list)             #length of the word\n",
    "\n",
    "word_guess = list((len(word_list))*(str(\"_\")))  #the list that shows the lines and changes to letters\n",
    "print(\"Here is the word you need to find out: \", word_guess)\n",
    "\n",
    "max_game = 13\n",
    "killer_proc = [\"basis\", \"stick\", \"upper thingy\", \"loop\", \"head\", \"body\", \"left leg\", \"right leg\", \"left hand\", \"right hand\", \"lef eye\", \"right eye\", \"no smile\" ]\n",
    "\n",
    "guesses = []\n",
    "x = 0                             # +1 if the guess was not successful\n",
    "while count_lines > 0 and x != max_game:\n",
    "    mistake = 0\n",
    "    guess = str(input('add your letter: '))\n",
    "    guesses.append(guess)\n",
    "    guess_list = list(guess)\n",
    "    for i in range(len(word_list)):\n",
    "        for j in range(len(guess_list)):\n",
    "            if word_list[i] == guess[j]:\n",
    "                word_guess[i]= guess[j]\n",
    "            else:\n",
    "                mistake +=1\n",
    "                if mistake == len(word_list):\n",
    "                    x+=1\n",
    "                    y=x-1\n",
    "                    print(\"Wrong! Sorry, I have tro draw the \", killer_proc[y])\n",
    "        \n",
    "\n",
    "    count_lines = word_guess.count(\"_\")  # counts how many lines are missing\n",
    "    print(word_guess)\n",
    "    print(\"Letters you already guessed: \" ,guesses)\n",
    "\n",
    "result(count_lines,x)  "
   ]
  },
  {
   "cell_type": "code",
   "execution_count": null,
   "metadata": {},
   "outputs": [],
   "source": []
  }
 ],
 "metadata": {
  "kernelspec": {
   "display_name": "Python 3",
   "language": "python",
   "name": "python3"
  },
  "language_info": {
   "codemirror_mode": {
    "name": "ipython",
    "version": 3
   },
   "file_extension": ".py",
   "mimetype": "text/x-python",
   "name": "python",
   "nbconvert_exporter": "python",
   "pygments_lexer": "ipython3",
   "version": "3.8.6"
  }
 },
 "nbformat": 4,
 "nbformat_minor": 4
}
